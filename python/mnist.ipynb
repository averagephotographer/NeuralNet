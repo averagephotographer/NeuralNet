{
 "cells": [
  {
   "cell_type": "code",
   "execution_count": 14,
   "metadata": {},
   "outputs": [],
   "source": [
    "# source: https://colab.research.google.com/github/tensorflow/docs/blob/master/site/en/tutorials/quickstart/beginner.ipynb#scrollTo=SfR4MsSDU880\n",
    "import tensorflow as tf\n",
    "import tensorflow.keras as keras\n",
    "import numpy"
   ]
  },
  {
   "cell_type": "code",
   "execution_count": 15,
   "metadata": {},
   "outputs": [],
   "source": [
    "# gets inputs\n",
    "mnist = tf.keras.datasets.fashion_mnist\n",
    "(x_train, y_train), (x_test, y_test) = mnist.load_data()\n",
    "x_train, x_test = x_train / 255.0, x_test / 255.0"
   ]
  },
  {
   "cell_type": "code",
   "execution_count": 16,
   "metadata": {},
   "outputs": [],
   "source": [
    "# setup model\n",
    "# model has three layers\n",
    "model = tf.keras.models.Sequential([\n",
    "    tf.keras.layers.Flatten(input_shape=(28,28)), # input layer\n",
    "    tf.keras.layers.Dense(128, activation='relu'), # layer 2\n",
    "    # tf.keras.layers.Dense(64, activation='sigmoid'), # layer 3\n",
    "    # tf.keras.layers.Dropout(0.2), # randomly sets to 0, prevents overfitting\n",
    "    tf.keras.layers.Dense(10) # output layer\n",
    "\n",
    "])"
   ]
  },
  {
   "cell_type": "code",
   "execution_count": 17,
   "metadata": {},
   "outputs": [
    {
     "data": {
      "text/plain": [
       "array([[ 0.1709923 ,  0.19350243, -0.18584454,  1.029766  , -1.0878539 ,\n",
       "        -1.4160498 ,  0.0573594 , -0.7235396 ,  0.70365936,  0.5482729 ]],\n",
       "      dtype=float32)"
      ]
     },
     "execution_count": 17,
     "metadata": {},
     "output_type": "execute_result"
    }
   ],
   "source": [
    "# for each example, model returns a vector of logits (log-odds scores)\n",
    "# one for each class\n",
    "predictions = model(x_train[:1]).numpy()\n",
    "predictions"
   ]
  },
  {
   "cell_type": "code",
   "execution_count": 18,
   "metadata": {},
   "outputs": [
    {
     "data": {
      "text/plain": [
       "array([[0.09965526, 0.10192394, 0.06974738, 0.23521273, 0.02830024,\n",
       "        0.02038245, 0.08895084, 0.04073896, 0.16975966, 0.14532858]],\n",
       "      dtype=float32)"
      ]
     },
     "execution_count": 18,
     "metadata": {},
     "output_type": "execute_result"
    }
   ],
   "source": [
    "# converts logits to probabilities for each class\n",
    "tf.nn.softmax(predictions).numpy()"
   ]
  },
  {
   "cell_type": "code",
   "execution_count": 19,
   "metadata": {},
   "outputs": [],
   "source": [
    "# loss fn\n",
    "# losses.SCC takes a vector of logits and a True index\n",
    "# returns a scalar loss for each example\n",
    "loss_fn = tf.keras.losses.SparseCategoricalCrossentropy(from_logits=True)"
   ]
  },
  {
   "cell_type": "code",
   "execution_count": 20,
   "metadata": {},
   "outputs": [
    {
     "data": {
      "text/plain": [
       "1.9287579"
      ]
     },
     "execution_count": 20,
     "metadata": {},
     "output_type": "execute_result"
    }
   ],
   "source": [
    "loss_fn(y_train[:1], predictions).numpy()"
   ]
  },
  {
   "cell_type": "code",
   "execution_count": 22,
   "metadata": {},
   "outputs": [],
   "source": [
    "model.compile(optimizer='adam',\n",
    "                loss=loss_fn,\n",
    "                metrics=['accuracy']) # todo: what is this?"
   ]
  },
  {
   "cell_type": "code",
   "execution_count": 23,
   "metadata": {},
   "outputs": [
    {
     "name": "stdout",
     "output_type": "stream",
     "text": [
      "Epoch 1/10\n",
      "1875/1875 [==============================] - 8s 4ms/step - loss: 0.5316 - accuracy: 0.8096\n",
      "Epoch 2/10\n",
      "1875/1875 [==============================] - 6s 3ms/step - loss: 0.4003 - accuracy: 0.8545\n",
      "Epoch 3/10\n",
      "1875/1875 [==============================] - 7s 4ms/step - loss: 0.3660 - accuracy: 0.8648\n",
      "Epoch 4/10\n",
      "1875/1875 [==============================] - 7s 4ms/step - loss: 0.3456 - accuracy: 0.8726\n",
      "Epoch 5/10\n",
      "1875/1875 [==============================] - 5s 3ms/step - loss: 0.3297 - accuracy: 0.8784\n",
      "Epoch 6/10\n",
      "1875/1875 [==============================] - 7s 4ms/step - loss: 0.3179 - accuracy: 0.8828\n",
      "Epoch 7/10\n",
      "1875/1875 [==============================] - 7s 4ms/step - loss: 0.3057 - accuracy: 0.8860\n",
      "Epoch 8/10\n",
      "1875/1875 [==============================] - 6s 3ms/step - loss: 0.2975 - accuracy: 0.8904\n",
      "Epoch 9/10\n",
      "1875/1875 [==============================] - 6s 3ms/step - loss: 0.2904 - accuracy: 0.8911\n",
      "Epoch 10/10\n",
      "1875/1875 [==============================] - 6s 3ms/step - loss: 0.2832 - accuracy: 0.8932\n"
     ]
    },
    {
     "data": {
      "text/plain": [
       "<keras.callbacks.History at 0x18135923ee0>"
      ]
     },
     "execution_count": 23,
     "metadata": {},
     "output_type": "execute_result"
    }
   ],
   "source": [
    "# approximage the function using the w/b in the model\n",
    "model.fit(x_train, y_train, epochs=10)"
   ]
  },
  {
   "cell_type": "code",
   "execution_count": 24,
   "metadata": {},
   "outputs": [
    {
     "name": "stdout",
     "output_type": "stream",
     "text": [
      "313/313 - 1s - loss: 0.3406 - accuracy: 0.8799\n"
     ]
    },
    {
     "data": {
      "text/plain": [
       "[0.34064334630966187, 0.8798999786376953]"
      ]
     },
     "execution_count": 24,
     "metadata": {},
     "output_type": "execute_result"
    }
   ],
   "source": [
    "# checks performance on test set\n",
    "model.evaluate(x_test, y_test, verbose=2)"
   ]
  },
  {
   "cell_type": "code",
   "execution_count": 25,
   "metadata": {},
   "outputs": [],
   "source": [
    "# returns a probability\n",
    "# wraps the trained model and attaches softmax to it\n",
    "probability_model = tf.keras.Sequential([\n",
    "    model,\n",
    "    tf.keras.layers.Softmax()\n",
    "])"
   ]
  },
  {
   "cell_type": "code",
   "execution_count": 26,
   "metadata": {},
   "outputs": [
    {
     "data": {
      "text/plain": [
       "<tf.Tensor: shape=(5, 10), dtype=float32, numpy=\n",
       "array([[3.2329385e-06, 3.9327280e-10, 4.7750532e-08, 2.1307592e-08,\n",
       "        1.1621369e-07, 3.2713658e-03, 6.4749349e-07, 2.3966482e-02,\n",
       "        1.0842544e-06, 9.7275698e-01],\n",
       "       [8.1987724e-05, 3.5883263e-14, 9.9876308e-01, 2.8882135e-12,\n",
       "        9.1450964e-04, 1.6702027e-12, 2.4033499e-04, 4.0054764e-16,\n",
       "        1.5108766e-10, 6.6771661e-18],\n",
       "       [2.5936768e-09, 1.0000000e+00, 2.0550109e-12, 5.1937787e-10,\n",
       "        1.7044011e-09, 2.5701170e-21, 3.6207519e-12, 3.5352179e-31,\n",
       "        1.0957564e-17, 3.8509034e-24],\n",
       "       [2.9665843e-08, 9.9999964e-01, 5.3524962e-10, 2.0215064e-07,\n",
       "        7.1618231e-08, 3.3743903e-19, 6.0530259e-10, 3.6091725e-28,\n",
       "        3.0305185e-15, 6.1778695e-20],\n",
       "       [8.8540830e-02, 2.8988106e-07, 2.9489208e-02, 9.6477271e-04,\n",
       "        9.4899954e-04, 6.1553452e-05, 8.7988317e-01, 2.4951577e-08,\n",
       "        1.1108580e-04, 1.7683693e-07]], dtype=float32)>"
      ]
     },
     "execution_count": 26,
     "metadata": {},
     "output_type": "execute_result"
    }
   ],
   "source": [
    "probability_model(x_test[:5])"
   ]
  }
 ],
 "metadata": {
  "interpreter": {
   "hash": "55abaeda2cf3a1eb2658918c6fcc78334029bfa49325af43eb8c129de935ebbc"
  },
  "kernelspec": {
   "display_name": "Python 3.9.6 64-bit",
   "name": "python3"
  },
  "language_info": {
   "codemirror_mode": {
    "name": "ipython",
    "version": 3
   },
   "file_extension": ".py",
   "mimetype": "text/x-python",
   "name": "python",
   "nbconvert_exporter": "python",
   "pygments_lexer": "ipython3",
   "version": "3.9.6"
  },
  "orig_nbformat": 4
 },
 "nbformat": 4,
 "nbformat_minor": 2
}
